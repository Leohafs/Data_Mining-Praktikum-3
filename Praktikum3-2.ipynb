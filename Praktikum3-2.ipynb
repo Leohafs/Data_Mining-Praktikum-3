{
 "cells": [
  {
   "cell_type": "code",
   "execution_count": 2,
   "id": "834146a6-b98c-4af5-bbf2-15199deff7b4",
   "metadata": {},
   "outputs": [
    {
     "name": "stdout",
     "output_type": "stream",
     "text": [
      "Data Asli:\n",
      "[[2. 5.]\n",
      " [1. 4.]\n",
      " [3. 6.]]\n",
      "\n",
      "Data setelah Min-Max Scalling:\n",
      "[[0.5 0.5]\n",
      " [0.  0. ]\n",
      " [1.  1. ]]\n"
     ]
    }
   ],
   "source": [
    "import numpy as np\n",
    "from sklearn.preprocessing import MinMaxScaler\n",
    "\n",
    "# data contoh(ganti dengan data anda)\n",
    "data = np.array([[2.0, 5.0],\n",
    "               [1.0, 4.0],\n",
    "               [3.0, 6.0]])\n",
    "\n",
    "# Inisialisasi objek minMaxScaler\n",
    "scaler = MinMaxScaler()\n",
    "\n",
    "# fit dan transformasi data menggunakan Min-Max Scaling\n",
    "scaled_data = scaler.fit_transform(data)\n",
    "\n",
    "print(\"Data Asli:\")\n",
    "print(data)\n",
    "\n",
    "print(\"\\nData setelah Min-Max Scalling:\")\n",
    "print(scaled_data)"
   ]
  },
  {
   "cell_type": "code",
   "execution_count": 3,
   "id": "129a9ac1-10d8-4db0-9f91-0cd8ccf2ed05",
   "metadata": {},
   "outputs": [
    {
     "name": "stdout",
     "output_type": "stream",
     "text": [
      "Data Asli:\n",
      "[[ 2.  5.]\n",
      " [ 1.  4.]\n",
      " [ 3. 60.]]\n",
      "\n",
      "Data setelah Z-Score Transformation\n",
      "[[ 0.         -0.68791204]\n",
      " [-1.22474487 -0.72612938]\n",
      " [ 1.22474487  1.41404142]]\n"
     ]
    }
   ],
   "source": [
    "import numpy as np\n",
    "from sklearn.preprocessing import StandardScaler\n",
    "\n",
    "data = np.array([[2.0, 5.0],\n",
    "                [1.0, 4.0],\n",
    "                [3.0, 60]])\n",
    "\n",
    "scaler = StandardScaler()\n",
    "\n",
    "z_score_data = scaler.fit_transform(data)\n",
    "\n",
    "print(\"Data Asli:\")\n",
    "print(data)\n",
    "\n",
    "print(\"\\nData setelah Z-Score Transformation\")\n",
    "print(z_score_data)"
   ]
  },
  {
   "cell_type": "code",
   "execution_count": 10,
   "id": "c3791774-0192-4d97-9ff6-cd7f2677d818",
   "metadata": {},
   "outputs": [
    {
     "name": "stdout",
     "output_type": "stream",
     "text": [
      "Data Asli:\n",
      "[200 300 400 500 600]\n",
      "\n",
      "Data setelah Decimal Scaling:\n",
      "[0.2 0.3 0.4 0.5 0.6]\n"
     ]
    }
   ],
   "source": [
    "import numpy as np\n",
    "\n",
    "# data contoh\n",
    "data = np.array([200, 300, 400, 500, 600])\n",
    "\n",
    "# Menentukan faktor penggeseran (scaling factor)\n",
    "# misalnya 1000 untuk mengubah ke rentang 0-1\n",
    "scaling_factor = 1000\n",
    "\n",
    "# Melakukan transformasi Decimal Scaling\n",
    "scaled_data = data / scaling_factor\n",
    "\n",
    "print(\"Data Asli:\")\n",
    "print(data)\n",
    "\n",
    "print(\"\\nData setelah Decimal Scaling:\")\n",
    "print(scaled_data)"
   ]
  },
  {
   "cell_type": "code",
   "execution_count": null,
   "id": "2ede35d3-1297-414e-a771-0091be3e50de",
   "metadata": {},
   "outputs": [],
   "source": []
  }
 ],
 "metadata": {
  "kernelspec": {
   "display_name": "Python 3 (ipykernel)",
   "language": "python",
   "name": "python3"
  },
  "language_info": {
   "codemirror_mode": {
    "name": "ipython",
    "version": 3
   },
   "file_extension": ".py",
   "mimetype": "text/x-python",
   "name": "python",
   "nbconvert_exporter": "python",
   "pygments_lexer": "ipython3",
   "version": "3.11.9"
  }
 },
 "nbformat": 4,
 "nbformat_minor": 5
}
